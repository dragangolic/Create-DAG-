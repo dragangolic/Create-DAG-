{
 "cells": [
  {
   "cell_type": "code",
   "execution_count": null,
   "id": "715ee719",
   "metadata": {},
   "outputs": [],
   "source": [
    "pip install apache-airflow"
   ]
  },
  {
   "cell_type": "code",
   "execution_count": null,
   "id": "dc656f85",
   "metadata": {},
   "outputs": [],
   "source": [
    "from airflow import DAG\n",
    "from airflow.operators.bash_operator import BashOperator\n",
    "import datetime as dt"
   ]
  },
  {
   "cell_type": "code",
   "execution_count": null,
   "id": "d9b57b2b",
   "metadata": {},
   "outputs": [],
   "source": [
    "# DAG arguments\n",
    "default_args = {\n",
    "    'owner': 'me',\n",
    "    'start_date': dt.datetime(2021,7,28),\n",
    "    'retries':1,\n",
    "    'retry_delay': dt.timedelta(minutes=5),\n",
    "}"
   ]
  },
  {
   "cell_type": "code",
   "execution_count": null,
   "id": "c4201a99",
   "metadata": {},
   "outputs": [],
   "source": [
    "# DAG definition\n",
    "dag = DAG('simple_example',\n",
    "         description = 'A simple example DAG',\n",
    "         default_args = default_args,\n",
    "         schedule_interval = dt.timedelta(seconds=5),\n",
    "         )"
   ]
  },
  {
   "cell_type": "code",
   "execution_count": null,
   "id": "3972a29d",
   "metadata": {},
   "outputs": [],
   "source": [
    "# Task definitions\n",
    "task1 = BashOperator(\n",
    "task_id = 'print_hello',\n",
    "bash_command = 'echo \\'Greetings. The date and time are \\'',\n",
    "dag = dag,\n",
    ")\n",
    "\n",
    "task1 = BashOperator(\n",
    "task_id = 'print_date',\n",
    "bash_command = 'date',\n",
    "dag = dag,\n",
    ")"
   ]
  },
  {
   "cell_type": "code",
   "execution_count": null,
   "id": "c5426aae",
   "metadata": {},
   "outputs": [],
   "source": [
    "# Task pipeline\n",
    "task1 >> task2"
   ]
  },
  {
   "cell_type": "code",
   "execution_count": null,
   "id": "d59b5183",
   "metadata": {},
   "outputs": [],
   "source": []
  },
  {
   "cell_type": "code",
   "execution_count": null,
   "id": "8a5edf37",
   "metadata": {},
   "outputs": [],
   "source": []
  },
  {
   "cell_type": "code",
   "execution_count": null,
   "id": "d4ca3a18",
   "metadata": {},
   "outputs": [],
   "source": []
  },
  {
   "cell_type": "code",
   "execution_count": null,
   "id": "a0213b0b",
   "metadata": {},
   "outputs": [],
   "source": []
  },
  {
   "cell_type": "code",
   "execution_count": null,
   "id": "c55b46c8",
   "metadata": {},
   "outputs": [],
   "source": []
  },
  {
   "cell_type": "code",
   "execution_count": null,
   "id": "74debb08",
   "metadata": {},
   "outputs": [],
   "source": []
  },
  {
   "cell_type": "code",
   "execution_count": null,
   "id": "6e03cdaa",
   "metadata": {},
   "outputs": [],
   "source": []
  }
 ],
 "metadata": {
  "kernelspec": {
   "display_name": "Python 3 (ipykernel)",
   "language": "python",
   "name": "python3"
  },
  "language_info": {
   "codemirror_mode": {
    "name": "ipython",
    "version": 3
   },
   "file_extension": ".py",
   "mimetype": "text/x-python",
   "name": "python",
   "nbconvert_exporter": "python",
   "pygments_lexer": "ipython3",
   "version": "3.9.13"
  }
 },
 "nbformat": 4,
 "nbformat_minor": 5
}
