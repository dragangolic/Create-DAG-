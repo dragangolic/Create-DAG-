{
 "cells": [
  {
   "cell_type": "code",
   "execution_count": null,
   "id": "0b7ae2d0",
   "metadata": {},
   "outputs": [],
   "source": [
    "# import the libraries\n",
    "\n",
    "from datetime import timedelta\n",
    "# The DAG object; we'll need this to instantiate a DAG\n",
    "from airflow import DAG\n",
    "# Operators; we need this to write tasks!\n",
    "from airflow.operators.bash_operator import BashOperator\n",
    "# This makes scheduling easy\n",
    "from airflow.utils.dates import days_ago"
   ]
  },
  {
   "cell_type": "code",
   "execution_count": null,
   "id": "58003c94",
   "metadata": {},
   "outputs": [],
   "source": [
    "#defining DAG arguments\n",
    "\n",
    "# You can override them on a per-task basis during operator initialization\n",
    "default_args = {\n",
    "    'owner': 'Ramesh Sannareddy',\n",
    "    'start_date': days_ago(0),\n",
    "    'email': ['ramesh@somemail.com'],\n",
    "    'email_on_failure': False,\n",
    "    'email_on_retry': False,\n",
    "    'retries': 1,\n",
    "    'retry_delay': timedelta(minutes=5),\n",
    "}"
   ]
  },
  {
   "cell_type": "code",
   "execution_count": null,
   "id": "18c2ffa7",
   "metadata": {},
   "outputs": [],
   "source": [
    "# defining the DAG\n",
    "\n",
    "# define the DAG\n",
    "dag = DAG(\n",
    "    'my-first-dag',\n",
    "    default_args=default_args,\n",
    "    description='My first DAG',\n",
    "    schedule_interval=timedelta(days=1),\n",
    ")"
   ]
  },
  {
   "cell_type": "code",
   "execution_count": null,
   "id": "d94615d4",
   "metadata": {},
   "outputs": [],
   "source": [
    "# define the tasks\n",
    "\n",
    "# define the first task\n",
    "\n",
    "extract = BashOperator(\n",
    "    task_id='extract',\n",
    "    bash_command='cut -d\":\" -f1,3,6 /etc/passwd > /home/project/airflow/dags/extracted-data.txt',\n",
    "    dag=dag,\n",
    ")\n",
    "\n",
    "# define the second task\n",
    "transform_and_load = BashOperator(\n",
    "    task_id='transform',\n",
    "    bash_command='tr \":\" \",\" < /home/project/airflow/dags/extracted-data.txt > /home/project/airflow/dags/transformed-data.csv',\n",
    "    dag=dag,\n",
    ")"
   ]
  },
  {
   "cell_type": "code",
   "execution_count": null,
   "id": "2e0c6491",
   "metadata": {},
   "outputs": [],
   "source": [
    "# task pipeline\n",
    "extract >> transform_and_load"
   ]
  },
  {
   "cell_type": "markdown",
   "id": "80d45ba1",
   "metadata": {},
   "source": [
    "Submitting a DAG is as simple as copying the DAG python file into dags folder in the AIRFLOW_HOME directory.\n",
    "\n",
    "Open a terminal and run the command below to submit the DAG that was created in the previous exercise.\n",
    "\n",
    "Note: While submitting the dag that was created in the previous exercise, use sudo in the terminal before the command used to submit the dag.\n",
    "\n",
    "\n",
    "#Run the command below to list out all the existing DAGs.\n",
    " cp my_first_dag.py $AIRFLOW_HOME/dags\n",
    "\n",
    "#Verify that my-first-dag is a part of the output.\n",
    " airflow dags list\n",
    " \n",
    "#Run the command below to list out all the tasks in my-first-dag.\n",
    "airflow tasks list my-first-dag \n",
    " "
   ]
  },
  {
   "cell_type": "code",
   "execution_count": null,
   "id": "1692775a",
   "metadata": {},
   "outputs": [],
   "source": []
  }
 ],
 "metadata": {
  "kernelspec": {
   "display_name": "Python 3 (ipykernel)",
   "language": "python",
   "name": "python3"
  },
  "language_info": {
   "codemirror_mode": {
    "name": "ipython",
    "version": 3
   },
   "file_extension": ".py",
   "mimetype": "text/x-python",
   "name": "python",
   "nbconvert_exporter": "python",
   "pygments_lexer": "ipython3",
   "version": "3.9.13"
  }
 },
 "nbformat": 4,
 "nbformat_minor": 5
}
