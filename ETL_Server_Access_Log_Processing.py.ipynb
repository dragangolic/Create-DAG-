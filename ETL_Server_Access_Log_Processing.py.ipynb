{
 "cells": [
  {
   "cell_type": "code",
   "execution_count": 1,
   "id": "c8a6f3cf",
   "metadata": {},
   "outputs": [
    {
     "name": "stderr",
     "output_type": "stream",
     "text": [
      "WARNING:root:OSError while attempting to symlink the latest log directory\n"
     ]
    }
   ],
   "source": [
    "# import the libraries\n",
    "\n",
    "from datetime import timedelta\n",
    "# The DAG object; we'll need this to instantiate a DAG\n",
    "from airflow import DAG\n",
    "# Operators; we need this to write tasks!\n",
    "from airflow.operators.bash_operator import BashOperator\n",
    "# This makes scheduling easy\n",
    "from airflow.utils.dates import days_ago"
   ]
  },
  {
   "cell_type": "code",
   "execution_count": null,
   "id": "77e2c0c8",
   "metadata": {},
   "outputs": [],
   "source": [
    "#defining DAG arguments\n",
    "\n",
    "# You can override them on a per-task basis during operator initialization\n",
    "default_args = {\n",
    "    'owner': 'Ramesh Sannareddy',\n",
    "    'start_date': days_ago(0),\n",
    "    'email': ['ramesh@somemail.com'],\n",
    "    'email_on_failure': False,\n",
    "    'email_on_retry': False,\n",
    "    'retries': 1,\n",
    "    'retry_delay': timedelta(minutes=5),\n",
    "}"
   ]
  },
  {
   "cell_type": "code",
   "execution_count": null,
   "id": "bace7c18",
   "metadata": {},
   "outputs": [],
   "source": [
    "# defining the DAG\n",
    "\n",
    "# define the DAG\n",
    "dag = DAG(\n",
    "    'ETL_Server_Access_Log_Processing',\n",
    "    default_args=default_args,\n",
    "    description='My first DAG',\n",
    "    schedule_interval=timedelta(days=1),\n",
    ")"
   ]
  },
  {
   "cell_type": "code",
   "execution_count": null,
   "id": "e07c824a",
   "metadata": {},
   "outputs": [],
   "source": [
    "# define the tasks\n",
    "\n",
    "# define the task 'download'\n",
    "\n",
    "download = BashOperator(\n",
    "    task_id='download',\n",
    "    bash_command='wget \"https://cf-courses-data.s3.us.cloud-object-storage.appdomain.cloud/IBM-DB0250EN-SkillsNetwork/labs/Apache%20Airflow/Build%20a%20DAG%20using%20Airflow/web-server-access-log.txt\"',\n",
    "    dag=dag,\n",
    ")"
   ]
  },
  {
   "cell_type": "code",
   "execution_count": null,
   "id": "7ff43c18",
   "metadata": {},
   "outputs": [],
   "source": [
    "# define the task 'extract'\n",
    "\n",
    "extract = BashOperator(\n",
    "    task_id='extract',\n",
    "    bash_command='cut -f1,4 -d\"#\" web-server-access-log.txt > /home/project/airflow/dags/extracted.txt',\n",
    "    dag=dag,\n",
    ")"
   ]
  },
  {
   "cell_type": "code",
   "execution_count": null,
   "id": "f03c2c39",
   "metadata": {},
   "outputs": [],
   "source": [
    "# define the task 'transform'\n",
    "\n",
    "transform = BashOperator(\n",
    "    task_id='transform',\n",
    "    bash_command='tr \"[a-z]\" \"[A-Z]\" < /home/project/airflow/dags/extracted.txt > /home/project/airflow/dags/capitalized.txt',\n",
    "    dag=dag,\n",
    ")"
   ]
  },
  {
   "cell_type": "code",
   "execution_count": null,
   "id": "220c9571",
   "metadata": {},
   "outputs": [],
   "source": [
    "# define the task 'load'\n",
    "\n",
    "load = BashOperator(\n",
    "    task_id='load',\n",
    "    bash_command='zip log.zip capitalized.txt' ,\n",
    "    dag=dag,\n",
    ")"
   ]
  },
  {
   "cell_type": "markdown",
   "id": "a6958f50",
   "metadata": {},
   "source": [
    "Create the task pipeline block.\n",
    "\n",
    "# task pipeline\n",
    "\n",
    "download >> extract >> transform >> load\n",
    "\n",
    "# Submit the DAG.\n",
    "\n",
    "cp  ETL_Server_Access_Log_Processing.py $AIRFLOW_HOME/dags\n",
    "\n",
    "# Verify if the DAG is submitted.\n",
    "\n",
    "airflow dags list"
   ]
  },
  {
   "cell_type": "code",
   "execution_count": null,
   "id": "31ebee45",
   "metadata": {},
   "outputs": [],
   "source": []
  }
 ],
 "metadata": {
  "kernelspec": {
   "display_name": "Python 3 (ipykernel)",
   "language": "python",
   "name": "python3"
  },
  "language_info": {
   "codemirror_mode": {
    "name": "ipython",
    "version": 3
   },
   "file_extension": ".py",
   "mimetype": "text/x-python",
   "name": "python",
   "nbconvert_exporter": "python",
   "pygments_lexer": "ipython3",
   "version": "3.9.13"
  }
 },
 "nbformat": 4,
 "nbformat_minor": 5
}
