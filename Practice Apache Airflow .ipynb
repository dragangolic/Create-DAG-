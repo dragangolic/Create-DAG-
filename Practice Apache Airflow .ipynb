{
 "cells": [
  {
   "cell_type": "code",
   "execution_count": 7,
   "id": "96228de9",
   "metadata": {},
   "outputs": [
    {
     "name": "stderr",
     "output_type": "stream",
     "text": [
      "WARNING:root:OSError while attempting to symlink the latest log directory\n"
     ]
    }
   ],
   "source": [
    "from airflow import DAG\n",
    "from airflow.operators.python import PythonOperator\n"
   ]
  },
  {
   "cell_type": "code",
   "execution_count": 11,
   "id": "3d47bb03",
   "metadata": {},
   "outputs": [],
   "source": [
    "# Operators; we need this to write tasks!\n",
    "from airflow.operators.bash import BashOperator\n",
    "# This makes scheduling easy\n",
    "from airflow.utils.dates import days_ago"
   ]
  },
  {
   "cell_type": "code",
   "execution_count": 15,
   "id": "a5f8e80f",
   "metadata": {},
   "outputs": [],
   "source": [
    "import pendulum\n",
    "my_date = pendulum.today('UTC').add(days=-5)\n"
   ]
  },
  {
   "cell_type": "code",
   "execution_count": 18,
   "id": "86487b2a",
   "metadata": {},
   "outputs": [],
   "source": [
    "#defining DAG arguments\n",
    "\n",
    "# You can override them on a per-task basis during operator initialization\n",
    "default_args = {\n",
    "    'owner': 'Dragan',\n",
    "    'start_date': my_date,\n",
    "    'email': ['golicdragan0@gmail.com'],\n",
    "    'email_on_failure': False,\n",
    "    'email_on_retry': False,\n",
    "    'retries': 1,\n",
    "    'retry_delay': timedelta(minutes=5),\n",
    "}"
   ]
  },
  {
   "cell_type": "code",
   "execution_count": 20,
   "id": "eabdca20",
   "metadata": {},
   "outputs": [],
   "source": [
    "# defining the DAG\n",
    "\n",
    "# define the DAG\n",
    "dag = DAG(\n",
    "    'ETL_Server_Access_Log_Processing',\n",
    "    default_args=default_args,\n",
    "    description='My first DAG',\n",
    "    schedule = timedelta(days=1),\n",
    ")"
   ]
  },
  {
   "cell_type": "code",
   "execution_count": 21,
   "id": "395e7e39",
   "metadata": {},
   "outputs": [],
   "source": [
    "# define the tasks\n",
    "\n",
    "# define the task 'download'\n",
    "\n",
    "download = BashOperator(\n",
    "    task_id='download',\n",
    "    bash_command='wget \"https://cf-courses-data.s3.us.cloud-object-storage.appdomain.cloud/IBM-DB0250EN-SkillsNetwork/labs/Apache%20Airflow/Build%20a%20DAG%20using%20Airflow/web-server-access-log.txt\"',\n",
    "    dag=dag,\n",
    ")"
   ]
  },
  {
   "cell_type": "code",
   "execution_count": 22,
   "id": "ee8a3bf9",
   "metadata": {},
   "outputs": [],
   "source": [
    "# define the task 'extract'\n",
    "\n",
    "extract = BashOperator(\n",
    "    task_id='extract',\n",
    "    bash_command='cut -f1,4 -d\"#\" web-server-access-log.txt > /home/project/airflow/dags/extracted.txt',\n",
    "    dag=dag,\n",
    ")"
   ]
  },
  {
   "cell_type": "code",
   "execution_count": 23,
   "id": "921bbef0",
   "metadata": {},
   "outputs": [],
   "source": [
    "# define the task 'transform'\n",
    "\n",
    "transform = BashOperator(\n",
    "    task_id='transform',\n",
    "    bash_command='tr \"[a-z]\" \"[A-Z]\" < /home/project/airflow/dags/extracted.txt > /home/project/airflow/dags/capitalized.txt',\n",
    "    dag=dag,\n",
    ")"
   ]
  },
  {
   "cell_type": "code",
   "execution_count": 24,
   "id": "4533b7c2",
   "metadata": {},
   "outputs": [],
   "source": [
    "# define the task 'load'\n",
    "\n",
    "load = BashOperator(\n",
    "    task_id='load',\n",
    "    bash_command='zip log.zip capitalized.txt' ,\n",
    "    dag=dag,\n",
    ")"
   ]
  },
  {
   "cell_type": "code",
   "execution_count": 26,
   "id": "17cf082a",
   "metadata": {},
   "outputs": [
    {
     "data": {
      "text/plain": [
       "<Task(BashOperator): load>"
      ]
     },
     "execution_count": 26,
     "metadata": {},
     "output_type": "execute_result"
    }
   ],
   "source": [
    "# task pipeline\n",
    "extract >> transform >> load"
   ]
  },
  {
   "cell_type": "code",
   "execution_count": null,
   "id": "54c35784",
   "metadata": {},
   "outputs": [],
   "source": []
  }
 ],
 "metadata": {
  "kernelspec": {
   "display_name": "Python 3 (ipykernel)",
   "language": "python",
   "name": "python3"
  },
  "language_info": {
   "codemirror_mode": {
    "name": "ipython",
    "version": 3
   },
   "file_extension": ".py",
   "mimetype": "text/x-python",
   "name": "python",
   "nbconvert_exporter": "python",
   "pygments_lexer": "ipython3",
   "version": "3.9.13"
  }
 },
 "nbformat": 4,
 "nbformat_minor": 5
}
